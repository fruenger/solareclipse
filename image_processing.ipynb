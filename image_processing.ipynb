{
 "cells": [
  {
   "cell_type": "markdown",
   "metadata": {},
   "source": [
    "# Image processing language\n"
   ]
  },
  {
   "cell_type": "code",
   "execution_count": 1,
   "metadata": {},
   "outputs": [],
   "source": [
    "import rawpy\n",
    "import imageio\n",
    "import numpy as np\n",
    "import cv2\n",
    "import matplotlib.pyplot as plt\n",
    "from glob import glob\n",
    "\n",
    "def black_level_correction(image, BL, clip=True):\n",
    "    try:\n",
    "        iter(BL)\n",
    "    except TypeError:\n",
    "        BL = np.full(3, BL)\n",
    "    \n",
    "    result = (image - np.expand_dims(BL, axis=[0,1]))\n",
    "    if clip:\n",
    "        return np.clip(result, 0., 1.)\n",
    "    else:\n",
    "        return result\n",
    "\n",
    "def crop_and_center(filename, width=1000):\n",
    "    raw = rawpy.imread(filename).raw_image\n",
    "    colour = cv2.cvtColor(raw, cv2.COLOR_BAYER_BG2BGR)\n",
    "    del raw\n",
    "    processed = black_level_correction(colour, np.percentile(colour, axis=(0,1), q=1e-6), clip=False)\n",
    "    processed /= np.expand_dims(np.percentile(processed, q=100. - 1e-5, axis=[0,1]), axis=[0,1])\n",
    "\n",
    "    center_x = int(np.average(np.arange(processed.shape[0]), weights=np.sum(np.heaviside(processed[:, :, 1] - processed[:, :, 1].max()/10., 0.), axis=1)))\n",
    "    center_y = int(np.average(np.arange(processed.shape[1]), weights=np.sum(np.heaviside(processed[:, :, 1] - processed[:, :, 1].max()/10., 0.), axis=0)))\n",
    "\n",
    "    processed = processed[center_x-width:center_x+width, center_y-width:center_y+width]\n",
    "\n",
    "    return processed"
   ]
  },
  {
   "cell_type": "code",
   "execution_count": 2,
   "metadata": {},
   "outputs": [
    {
     "name": "stdout",
     "output_type": "stream",
     "text": [
      "Process image .\\IMG_5685.CR2\t4655/4655   [100.00%]\r"
     ]
    }
   ],
   "source": [
    "from matplotlib.animation import FuncAnimation\n",
    "import matplotlib.animation as animation\n",
    "from functools import partial\n",
    "image_names = sorted(glob(\"./*.CR2\"))\n",
    "\n",
    "for i in np.arange(4357, len(image_names)):\n",
    "    try:\n",
    "        print(\"Process image %s\" % image_names[i] + \"\\t%i/%i   [%.2f\" % (i+1, len(image_names), 100. * (i+1) / len(image_names)) + r\"%]\", end=\"\\r\")\n",
    "        fig, ax = plt.subplots(figsize=(10, 10), dpi=200)\n",
    "        img = ax.imshow(np.clip(crop_and_center(image_names[i]), 0., 1.))\n",
    "        ax.axis(\"off\")\n",
    "        ax.set(position=[0,0,1,1])\n",
    "        fig.savefig('converted/frame_%s.jpg' % str(i).zfill(5)) \n",
    "        plt.close(\"all\")\n",
    "    except:\n",
    "        plt.close(\"all\")\n",
    "        print(\"i = %i\" % i, \"Could not generate cropped image for file %s. We are skipping this one\" % image_names[i])"
   ]
  },
  {
   "cell_type": "code",
   "execution_count": 3,
   "metadata": {},
   "outputs": [
    {
     "name": "stderr",
     "output_type": "stream",
     "text": [
      "100%|██████████| 4591/4591 [05:05<00:00, 15.01it/s]\n"
     ]
    }
   ],
   "source": [
    "import cv2\n",
    "from tqdm import tqdm\n",
    "video_name = 'converted/converted.mp4'\n",
    "\n",
    "images = sorted(glob(\"converted/frame*.jpg\"))\n",
    "frame = cv2.imread(images[0])\n",
    "height, width, layers = frame.shape\n",
    "\n",
    "video = cv2.VideoWriter(video_name, cv2.VideoWriter_fourcc(*\"mp4v\"), 30, (width,height)) # \"DIVX\", \"XVID\", \"MJPG\", \"X264\", \"WMV1\", \"WMV2\", \"FMP4\", \"mp4v\", \"avc1\", \"I420\", \"IYUV\", \"mpg1\", \"H264\"\n",
    "\n",
    "for image in tqdm(images):\n",
    "    video.write(cv2.rotate(cv2.imread(image), cv2.ROTATE_180))\n",
    "\n",
    "cv2.destroyAllWindows()\n",
    "video.release()"
   ]
  },
  {
   "cell_type": "markdown",
   "metadata": {},
   "source": [
    "# Test"
   ]
  },
  {
   "cell_type": "code",
   "execution_count": null,
   "metadata": {},
   "outputs": [],
   "source": [
    "import numpy as np\n",
    "import matplotlib.pyplot as plt\n",
    "import rawpy\n",
    "from rawkit.raw import Raw\n",
    "from matplotlib.patches import Circle\n",
    "import PIL.Image\n",
    "from tqdm import tqdm\n",
    "\n",
    "def convert_raw_image(fname):\n",
    "    \"\"\"Display an rgb raw image.\"\"\"\n",
    "    raw_data = rawpy.imread(fname)\n",
    "    rgb = raw_data.postprocess(gamma=(1,1), no_auto_bright=True, output_bps=16) / (2**16 - 1)\n",
    "    return rgb\n",
    "\n",
    "def find_center(data, channel=1):\n",
    "    \"\"\"Find the image's center of mass.\"\"\"\n",
    "    y_center = np.average(np.arange(data.shape[1]), weights=np.sum(data[:, :, channel], axis=0))\n",
    "    x_center = np.average(np.arange(data.shape[0]), weights=np.sum(data[:, :, channel], axis=1))\n",
    "\n",
    "    return (x_center, y_center)\n",
    "\n",
    "def regress_to_center(data, maxiter=100, init=None, stepsize=[2,2,2]): # initial_parameters [x, y, radius]\n",
    "\n",
    "    total_integral = data.sum()\n",
    "    total_area = data.size\n",
    "    xx, yy = np.meshgrid(np.arange(data.shape[1]), np.arange(data.shape[0]))\n",
    "    \n",
    "    def loss_func(x, y, r):\n",
    "        mask = (xx - x)**2 + (yy - y)**2 <= r**2\n",
    "        integral = np.sum(data * mask)\n",
    "        area = np.pi * r**2\n",
    "        \n",
    "        #return area / integral - (total_area - area) / (total_integral - integral)\n",
    "        return area/total_area - integral/total_integral\n",
    "\n",
    "    if init == None:\n",
    "        all_x    = [data.shape[0]      / 2.]\n",
    "        all_y    = [data.shape[1]      / 2.]\n",
    "        all_r    = [np.min(data.shape) / 2.]\n",
    "        all_loss = [loss_func(all_x[-1], all_y[-1], all_r[-1])]\n",
    "    else:\n",
    "        all_x    = [init[0]]\n",
    "        all_y    = [init[1]]\n",
    "        all_r    = [init[2]]\n",
    "        all_loss = [loss_func(all_x[-1], all_y[-1], all_r[-1])]\n",
    "        \n",
    "    for i in tqdm(np.arange(maxiter)):\n",
    "        x = all_x[-1] + np.random.normal(0, stepsize[0])\n",
    "        y = all_y[-1] + np.random.normal(0, stepsize[1])\n",
    "        r = all_r[-1] + np.random.normal(0, stepsize[2])\n",
    "        loss = loss_func(x, y, r)\n",
    "        if all_loss[-1] >= loss:\n",
    "            all_x.append(x)\n",
    "            all_y.append(y)\n",
    "            all_r.append(r)\n",
    "            all_loss.append(loss)\n",
    "\n",
    "    return all_x, all_y, all_r, all_loss"
   ]
  },
  {
   "cell_type": "code",
   "execution_count": null,
   "metadata": {},
   "outputs": [],
   "source": [
    "image_data = convert_raw_image(\"data/IMG_1369.CR2\")\n",
    "center_coordinates = find_center(image_data >= 0.1)\n",
    "masked_data = image_data[:, :, 1] >= 1./20.\n",
    "all_x, all_y, all_r, all_loss = regress_to_center(masked_data, maxiter=200, init=[center_coordinates[1], center_coordinates[0], 482.], stepsize=[10., 10., 0.1])\n",
    "\n",
    "print(all_x, all_y, all_r, all_loss)"
   ]
  },
  {
   "cell_type": "code",
   "execution_count": null,
   "metadata": {},
   "outputs": [],
   "source": [
    "fig, axs = plt.subplots(nrows=4)\n",
    "axs[0].plot(all_x)\n",
    "axs[1].plot(all_y)\n",
    "axs[2].plot(all_r)\n",
    "axs[3].plot(all_loss)\n",
    "plt.show()"
   ]
  },
  {
   "cell_type": "code",
   "execution_count": null,
   "metadata": {},
   "outputs": [],
   "source": [
    "fig, ax = plt.subplots(figsize=(16,9))\n",
    "ax.imshow(np.transpose(image_data, axes=[1,0,2]) / image_data.max())\n",
    "center_coordinates = find_center(image_data >= 0.1)\n",
    "ax.add_patch(Circle(\n",
    "    (all_y[-1], all_x[-1]),\n",
    "    radius=all_r[-1],\n",
    "    fc=\"None\",\n",
    "    ec=\"red\"\n",
    "))\n",
    "\n",
    "for x, y, r in zip(all_x, all_y, all_r):\n",
    "    ax.add_patch(Circle((y, x), r, fc=\"None\", ec=\"white\", alpha=0.1))\n",
    "\n",
    "ax.set_xlabel(\"x-coordinate\")\n",
    "ax.set_ylabel(\"y-coordinate\")\n",
    "\n",
    "ax.set_xlim(center_coordinates[0] - 750, center_coordinates[0] + 750)\n",
    "ax.set_ylim(center_coordinates[1] - 750, center_coordinates[1] + 750)\n",
    "plt.show()"
   ]
  }
 ],
 "metadata": {
  "kernelspec": {
   "display_name": "Python 3",
   "language": "python",
   "name": "python3"
  },
  "language_info": {
   "codemirror_mode": {
    "name": "ipython",
    "version": 3
   },
   "file_extension": ".py",
   "mimetype": "text/x-python",
   "name": "python",
   "nbconvert_exporter": "python",
   "pygments_lexer": "ipython3",
   "version": "3.8.10"
  }
 },
 "nbformat": 4,
 "nbformat_minor": 2
}
