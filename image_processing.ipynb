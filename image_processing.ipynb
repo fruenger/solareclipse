{
 "cells": [
  {
   "cell_type": "markdown",
   "metadata": {},
   "source": [
    "# Image processing language\n"
   ]
  },
  {
   "cell_type": "code",
   "execution_count": 1,
   "metadata": {},
   "outputs": [],
   "source": [
    "import rawpy\n",
    "import imageio\n",
    "import numpy as np\n",
    "import cv2\n",
    "import matplotlib.pyplot as plt\n",
    "from glob import glob\n",
    "\n",
    "def black_level_correction(image, BL, clip=True):\n",
    "    try:\n",
    "        iter(BL)\n",
    "    except TypeError:\n",
    "        BL = np.full(3, BL)\n",
    "    \n",
    "    result = (image - np.expand_dims(BL, axis=[0,1]))\n",
    "    if clip:\n",
    "        return np.clip(result, 0., 1.)\n",
    "    else:\n",
    "        return result\n",
    "\n",
    "def crop_and_center(filename, width=1000):\n",
    "    raw = rawpy.imread(filename).raw_image\n",
    "    colour = cv2.cvtColor(raw, cv2.COLOR_BAYER_BG2BGR)\n",
    "    del raw\n",
    "    processed = black_level_correction(colour, np.percentile(colour, axis=(0,1), q=1e-6), clip=False)\n",
    "    processed /= np.expand_dims(np.percentile(processed, q=100. - 1e-5, axis=[0,1]), axis=[0,1])\n",
    "\n",
    "    center_x = int(np.average(np.arange(processed.shape[0]), weights=np.sum(np.heaviside(processed[:, :, 1] - processed[:, :, 1].max()/10., 0.), axis=1)))\n",
    "    center_y = int(np.average(np.arange(processed.shape[1]), weights=np.sum(np.heaviside(processed[:, :, 1] - processed[:, :, 1].max()/10., 0.), axis=0)))\n",
    "\n",
    "    processed = processed[center_x-width:center_x+width, center_y-width:center_y+width]\n",
    "\n",
    "    return processed"
   ]
  },
  {
   "cell_type": "code",
   "execution_count": 2,
   "metadata": {},
   "outputs": [
    {
     "name": "stdout",
     "output_type": "stream",
     "text": [
      "Process image .\\IMG_5685.CR2\t4655/4655   [100.00%]\r"
     ]
    }
   ],
   "source": [
    "from matplotlib.animation import FuncAnimation\n",
    "import matplotlib.animation as animation\n",
    "from functools import partial\n",
    "image_names = sorted(glob(\"./*.CR2\"))\n",
    "\n",
    "for i in np.arange(4357, len(image_names)):\n",
    "    try:\n",
    "        print(\"Process image %s\" % image_names[i] + \"\\t%i/%i   [%.2f\" % (i+1, len(image_names), 100. * (i+1) / len(image_names)) + r\"%]\", end=\"\\r\")\n",
    "        fig, ax = plt.subplots(figsize=(10, 10), dpi=200)\n",
    "        img = ax.imshow(np.clip(crop_and_center(image_names[i]), 0., 1.))\n",
    "        ax.axis(\"off\")\n",
    "        ax.set(position=[0,0,1,1])\n",
    "        fig.savefig('converted/frame_%s.jpg' % str(i).zfill(5)) \n",
    "        plt.close(\"all\")\n",
    "    except:\n",
    "        plt.close(\"all\")\n",
    "        print(\"i = %i\" % i, \"Could not generate cropped image for file %s. We are skipping this one\" % image_names[i])"
   ]
  },
  {
   "cell_type": "code",
   "execution_count": 3,
   "metadata": {},
   "outputs": [
    {
     "name": "stderr",
     "output_type": "stream",
     "text": [
      "100%|██████████| 4591/4591 [05:05<00:00, 15.01it/s]\n"
     ]
    }
   ],
   "source": [
    "import cv2\n",
    "from tqdm import tqdm\n",
    "video_name = 'converted/converted.mp4'\n",
    "\n",
    "images = sorted(glob(\"converted/frame*.jpg\"))\n",
    "frame = cv2.imread(images[0])\n",
    "height, width, layers = frame.shape\n",
    "\n",
    "video = cv2.VideoWriter(video_name, cv2.VideoWriter_fourcc(*\"mp4v\"), 30, (width,height)) # \"DIVX\", \"XVID\", \"MJPG\", \"X264\", \"WMV1\", \"WMV2\", \"FMP4\", \"mp4v\", \"avc1\", \"I420\", \"IYUV\", \"mpg1\", \"H264\"\n",
    "\n",
    "for image in tqdm(images):\n",
    "    video.write(cv2.rotate(cv2.imread(image), cv2.ROTATE_180))\n",
    "\n",
    "cv2.destroyAllWindows()\n",
    "video.release()"
   ]
  }
 ],
 "metadata": {
  "kernelspec": {
   "display_name": "Python 3",
   "language": "python",
   "name": "python3"
  },
  "language_info": {
   "codemirror_mode": {
    "name": "ipython",
    "version": 3
   },
   "file_extension": ".py",
   "mimetype": "text/x-python",
   "name": "python",
   "nbconvert_exporter": "python",
   "pygments_lexer": "ipython3",
   "version": "3.11.8"
  }
 },
 "nbformat": 4,
 "nbformat_minor": 2
}
