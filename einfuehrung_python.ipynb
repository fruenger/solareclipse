{
 "cells": [
  {
   "cell_type": "markdown",
   "metadata": {},
   "source": [
    "## Abschnitt 1: Die Grundlagen der Programmiersprache Python\n",
    "\n",
    "Python ist heutzutage in der (Astro)Physik eine sehr weit verbreitete und häufig genutzte Programmiersprache. Sie zeichnet sich vor allem damit aus, dass die im Vergleich zu anderen sehr leicht zu verstehen ist und daher auch für unseren Fall sehr geeignet ist.\n",
    "\n",
    "### Eingabe und Ausgabe\n",
    "Eines der wichtigsten Konzepte der elektronischen Datenberarbeitung ist das sogenannte **EVA**-Prinzip. Hier bei stehen die einzelnen Buchstaben für _Eingabe_, _Verarbeitung_ und _Ausgabe_. Um mit unseren Programmen richtig arbeiten zu können, müssen wir wissen, wie wir uns die Ergebnisse anzeigen lassen können. In Python ist das schnell gemacht. Das __print(...)__ Kommando schreibt alles das was in den runden Klammern steht in die Konsole sodass wir es sehen können. Hier ein Beispiel:"
   ]
  },
  {
   "cell_type": "code",
   "execution_count": null,
   "metadata": {},
   "outputs": [],
   "source": [
    "print(\"Hallo Welt!\")"
   ]
  },
  {
   "cell_type": "markdown",
   "metadata": {},
   "source": [
    "Wir haben also gesehen, dass der obige Code die Worte _Hallo Welt_ ausgibt. Wie müsste der Code nun aussehen, damit nicht Hallo Welt, sondern z.B. _Hallo Mars_ ausgegeben wird?"
   ]
  },
  {
   "cell_type": "code",
   "execution_count": null,
   "metadata": {},
   "outputs": [],
   "source": [
    "## Hierunter den code für die Ausgabe von \"Hallo Mars\" hinschreiben\n",
    "...\n",
    "\n",
    "## Andere Beispiele was man noch schreiben kann:\n",
    "print(\"Das ist ein Testtext\")\n",
    "print(1)\n",
    "print(3.14157)"
   ]
  },
  {
   "cell_type": "markdown",
   "metadata": {},
   "source": [
    "Wir haben gesehen, dass Wörter immer in Anführungszeichen gesetzt werden müssen. Diese Strukturen nennt man sogenannte $\\texttt{strings}$. Diese werden uns demnächst noch etwas häufiger begegnen...\n",
    "\n",
    "### Variablen\n",
    "Nun ist es an der Zeit, dass wir uns Variablen anschauen. So wie in der Mathematik ist es oft sinnvoll für komplizierte Rechnungen und deren Ergebnisse sogeannte _Variablen_ zu definieren. Sie machen den Code kürzer, eleganter und vor allem flexibler! Bei Variablen ist es so, dass diese grundsätzlich einen _Namen_, einen _Wert_ und einen bsteimmten _Datentyp_ besitzen. Wir definieren sie indem wir uns einen Namen für diese ausdenken und ihnen mithilfe des Gleichheitszeichens einen Wert zuweisen. Es ist allerdings wichtig, dass der Name KEINE Leerzeichen beinhaltet. Diese ersetzt man üblicherweise mit einen Unterstrich: (**_**)"
   ]
  },
  {
   "cell_type": "code",
   "execution_count": 1,
   "metadata": {},
   "outputs": [
    {
     "name": "stdout",
     "output_type": "stream",
     "text": [
      "Das hier ist ein Testtext\n",
      "3.14157\n"
     ]
    }
   ],
   "source": [
    "# Beispiel für eine Variable:\n",
    "test_variable = \"Das hier ist ein Testtext\"\n",
    "print(test_variable)\n",
    "\n",
    "pi = 3.14157\n",
    "print(pi)"
   ]
  },
  {
   "cell_type": "markdown",
   "metadata": {},
   "source": [
    "## Fundamentale Rechenoperatoren\n",
    "Nun, dass wir Variablen kennengelernt haben, können wir uns mit den Rechenoperationen beschäftigen. In Python gibt es sehr viele davon. Diejenigen, die wir allerdings am häufigsten benutzen müssen sind lediglich eine Hand voll. Dazu zählen:\n",
    "\n",
    "- __+__ die Addition,\n",
    "- __-__ die Substraktion,\n",
    "- __*__ die Multiplikation,\n",
    "- __/__ die Division und\n",
    "- __**__ das Potenzieren.\n",
    "\n",
    "In der folgenden Zelle können wir die Fläche und den Umfang eines Kreises berechnen mit\n",
    "\n",
    "$U=2\\cdot\\pi\\cdot r$ und $A=\\pi \\cdot r \\cdot r=\\pi \\cdot r^2$"
   ]
  },
  {
   "cell_type": "code",
   "execution_count": 2,
   "metadata": {},
   "outputs": [
    {
     "name": "stdout",
     "output_type": "stream",
     "text": [
      "Der Kreis mit dem Radius 1.0 hat den Umfang 6.28314 und die Fläche 3.14157\n"
     ]
    }
   ],
   "source": [
    "radius = 1.\n",
    "\n",
    "# Umfang\n",
    "U = 2. * pi * radius\n",
    "\n",
    "# Fläche\n",
    "A = pi * radius**2\n",
    "\n",
    "print(\"Der Kreis mit dem Radius\", radius, \"hat den Umfang\", U, \"und die Fläche\", A)"
   ]
  },
  {
   "cell_type": "markdown",
   "metadata": {},
   "source": [
    "### Übung: Einfache Berechnungen\n",
    "Bereichne den Flächeninhalt und das Volumen einer Kugel mit dem Radius $r$.\n",
    "Zur Erinnerung, die entsprechenden Formeln lauten:\n",
    "\n",
    "$A=4\\cdot\\pi\\cdot r^2$\n",
    "\n",
    "$V=\\frac{4\\pi}{3}\\cdot r^3$"
   ]
  },
  {
   "cell_type": "code",
   "execution_count": null,
   "metadata": {},
   "outputs": [],
   "source": [
    "radius = ...\n",
    "\n",
    "A = ...\n",
    "V = ...\n",
    "\n",
    "print(\"Eine Kugel mit dem Radius\", radius, \"hat eine Oberflächeninhalt von\", A, \"und ein Volumen\", V)"
   ]
  },
  {
   "cell_type": "markdown",
   "metadata": {},
   "source": [
    "## Listen und Schleifen\n",
    "\n",
    "Bisher haben wir die Möglichkeiten der elektronischen Datenverarbeitung noch nicht voll ausgeschöpft. Warum haben wir für die bisherigen Berechnungen nicht einfach einen Taschenrechner benutzt?  Nun, die Stärke von Computern liegt darin, dass man mit ihrer Hilfe eine große Anzahl von Berechnungen automatisieren kann, und zwar mit einer Geschwindigkeit von mehreren Milliarden Berechnungen pro Sekunde. Machen wir uns das zunutze und führen wir nun einige kompliziertere Berechnungen durch, indem wir so genannte Schleifen verwenden. Wie der Name schon vermuten lässt, durchläuft der Computer Schleifen mehrmals, und zwar so lange, bis eine bestimmte, definierbare Bedingung erfüllt ist. Auf diese Weise ist es uns möglich, Aufgaben zu automatisieren.\n",
    "\n",
    "Es gibt verschiedene Arten von Schleifen in Python (zum Beispiel $\\texttt{while}$ oder $\\texttt{for}$). Mit letzerer beschäftigen wir uns gleich.\n",
    "\n",
    "Um eine **for** Schleife zu definieren, müssen wir festlegen _wie oft_ der code in der Schleife ausgeführt werden soll. Dafür können wir uns eine _Variable_ definieren die wir $N$ nennen.\n",
    "Der folgende Code zeigt ein Beispiel wie man mithilfe einer Schleife von 0 bis $N$ zählen kann."
   ]
  },
  {
   "cell_type": "code",
   "execution_count": null,
   "metadata": {},
   "outputs": [],
   "source": [
    "N = 10\n",
    "\n",
    "for nummer in range(N):\n",
    "    \n",
    "    print(\"Ich habe bis\", nummer, \"gezählt.\")"
   ]
  },
  {
   "cell_type": "markdown",
   "metadata": {},
   "source": [
    "Wichtig beim Benutzen von Schleifen in Python ist es, dass der Code, welcher wiederholt ausgeführt werden soll eingerückt wird. Wenn wir das vergessen, erhalten wir eine Fehlermeldung die uns darauf aufmerksam macht.\n",
    "\n",
    "Im vorherigen Beispiel haben wir auch eine Variable mit $\\texttt{range(N)}$ definiert. Diese enthält eigentlich schon alle Zahlen, über die wir gezählt haben. Ihr habt aber sicher bemerkt, dass wir, obwohl wir $N=10$ gesetzt haben, nur bei 9 angekommen sind, das liegt daran, dass Python bei **0** mit dem Zählen beginnt.\n",
    "\n",
    "### Listen und Arrays\n",
    "Eine Liste ist eine Art Sammelsorioum von geordneten Einträgen.  Wir können uns eine Liste in Python als eine Art \"Einkaufstüte\" vorstellen. Wir können darin alles speichern, was wir wollen. Wenn wir mit Computern arbeiten, wollen wir meistens mehr als nur eine Zahl zwischenspeichern. Listen helfen uns dabei. Im Prinzip können wir aber noch viel mehr als nur Zahlen in einer Liste speichern. Das sehen wir im folgenden Codebeispiel:"
   ]
  },
  {
   "cell_type": "code",
   "execution_count": null,
   "metadata": {},
   "outputs": [],
   "source": [
    "liste_mit_integer = [0, 1, 2, 3, 4, 5, 6, 7, 8, 9] # eine liste die die gleichen Einträge wie die \"range\" im vorherigen Beispiel hat\n",
    "liste_mit_zahlen  = [0, 7, 2.56, 34 + 1, -76.6, pi]\n",
    "kebap_mit_allem   = [\"Pitabrot\", \"Dönerfleisch\", \"Tomate\", \"Gurke\", \"Rotkraut\", \"Mais\", \"Soße\"]\n",
    "\n",
    "print(\"Eine Liste mit ganzzahligen Werten\", liste_mit_integer)\n",
    "print(\"Eine Liste mit Zahlen\", liste_mit_zahlen)\n",
    "print(\"Alles was im Döner drin ist:\", kebap_mit_allem)"
   ]
  },
  {
   "cell_type": "markdown",
   "metadata": {},
   "source": [
    "### Manipulation von Listen\n",
    "Sobald man eine Liste definiert hat, kann man diese auch nachträglich modifizieren. Wir können zum Beispiel eine weitere Zutat an das Ende unserer Liste mit dem Befehl __append(...)__ anfügen. So könnten wir beispielsweise bei unserem Kebap noch eine Serviette hinzufügen indem wir Folgendes ausführen:"
   ]
  },
  {
   "cell_type": "code",
   "execution_count": null,
   "metadata": {},
   "outputs": [],
   "source": [
    "kebap_mit_allem   = [\"Pitabrot\", \"Dönerfleisch\", \"Tomate\", \"Gurke\", \"Rotkraut\", \"Mais\", \"Soße\"]\n",
    "print(kebap_mit_allem)\n",
    "kebap_mit_allem.append(\"Serviette\")\n",
    "print(kebap_mit_allem)"
   ]
  },
  {
   "cell_type": "markdown",
   "metadata": {},
   "source": [
    "Wir sehen, dass im zweiten Durchlauf noch eine Serviette dazugekommen ist. Wunderbar! Nachdem wir uns nun die Finger geputzt haben, können wir sie wieder wegwerfen. Das letzte Element einer Liste können wir mit dem __pop()__ Kommando löschen."
   ]
  },
  {
   "cell_type": "code",
   "execution_count": null,
   "metadata": {},
   "outputs": [],
   "source": [
    "kebap_mit_allem   = [\"Pitabrot\", \"Dönerfleisch\", \"Tomate\", \"Gurke\", \"Rotkraut\", \"Mais\", \"Soße\"]\n",
    "print(kebap_mit_allem)\n",
    "kebap_mit_allem.append(\"Serviette\")\n",
    "print(kebap_mit_allem)\n",
    "kebap_mit_allem.pop()\n",
    "print(kebap_mit_allem)"
   ]
  },
  {
   "cell_type": "markdown",
   "metadata": {},
   "source": [
    "## Übung: Die Quadrate der natürlichen Zahlen\n",
    "\n",
    "Kommen wir nun zurück zu einem eher anwendungsbezogenerem Beispiel. Es ist die Aufgabe zu schauen, wie sich die Quadrate der natürlichen Zahlen verhalten.\n",
    "\n",
    "Wir wissen bereits wie wir Listen erstellen. Fangen wir also an für die Zahlen von 0 bis 10 deren Quadrate zu berechnen. Die Rechenoperationen dafür haben wir schon vorher kennengelernt."
   ]
  },
  {
   "cell_type": "code",
   "execution_count": null,
   "metadata": {},
   "outputs": [],
   "source": [
    "# Definiere zwei leere Listen, die wir gleich mit Werten befüllen werden\n",
    "zahlen   = []\n",
    "quadrate = []\n",
    "\n",
    "for zahl in range(11):\n",
    "    \n",
    "    zahlen.append(...) # füge der Liste der Zahlen am Ende eine Wert hinzu\n",
    "    quadrat = ... # Berechne das Quadrat der aktuellen Zahl\n",
    "    ... # füge der Liste der Quadrate am Ende einen Wert hinzu\n",
    "\n",
    "print(\"Eine Liste aller Zahlen:\", zahlen)\n",
    "print(\"Eine Liste aller Quadrate:\", quadrate)"
   ]
  },
  {
   "cell_type": "markdown",
   "metadata": {},
   "source": [
    "## Erstellen von Diagrammen\n",
    "Ein wichtiger Bestandteil des wissenschatlichen Arbeitens ist die Visualisierung der Ergebnisse. Hierbei verwenden wir ein _Paket_ mit dem Namen __matplotlib__. Diese stellt einige nützliche Tools für uns bereit, sodass wir unsere Daten einfach darstellen können.\n",
    "Erstellen wir im folgenden also ein Digraamm, basierend auf den Daten vom vorherigen Schritt, der uns die Zahlen und die Quadratzahlen grafisch anzeigt. Der entsprechende Code dafür sieht wie folgt aus:"
   ]
  },
  {
   "cell_type": "code",
   "execution_count": null,
   "metadata": {},
   "outputs": [],
   "source": [
    "import matplotlib.pyplot as plt\n",
    "\n",
    "plt.plot(zahlen, quadrate) # Dieses Kommando erzeugt den Graphen.\n",
    "plt.xlabel(\"Zahlen\") # Dieses Kommando erzeugt die Achsenbeschreibung auf der x-Achse\n",
    "plt.ylabel(\"Quadrate\") # Dieses Kommando erzeugt die Achsenbeschreibung auf der y-Achse\n",
    "plt.show() # Dieses Kommando zeigt das Diagramm."
   ]
  },
  {
   "cell_type": "markdown",
   "metadata": {},
   "source": [
    "### Übung: Das Gravitationsfeld der Erde\n",
    "In engem mathematischen Zusammenhang mit der soeben durchgeführten Übung steht die physikalische Beschreibung des Gravitationsfeldes unseres Planeten. Wenn wir die Erde als Punktmasse annehmen, dann ist ihre Anziehungskraft gegeben durch:\n",
    "$$ a \\approx 9.81 \\mathrm{\\frac{m}{s^2}}\\cdot\\frac{r_\\mathrm{Erde}^2}{r^2} $$\n",
    "\n",
    "Wenn wir nun die Abstände zum Zentrum der Erde in Einheiten des Erdradius angeben, können wir diesen einfacherweise auf 1 setzen. Numerisch lautet die Formel dann in Beschleuningungseinheiten von $\\mathrm{m\\, s^{-2}}$:\n",
    "\n",
    "$$ a \\approx \\frac{9.81}{r^2} $$\n",
    "\n",
    "Wir können dieses Verhalten auch grafisch in einem Diagramm darstellen. Das Programm, das wir dafür benötigen, ähnelt dem Programm, das wir bereits für die Berechnung der Quadratzahlen entwickelt haben."
   ]
  },
  {
   "cell_type": "code",
   "execution_count": null,
   "metadata": {},
   "outputs": [],
   "source": [
    "from numpy import arange as range\n",
    "\n",
    "distanzen        = []\n",
    "beschleunigungen = []\n",
    "\n",
    "for distanz in range(0.75, 5, 0.01):\n",
    "    \n",
    "    ... # füge eine Distanz an die Liste von distanzen an\n",
    "    \n",
    "    beschleunigung = ...\n",
    "    beschleunigungen.append(...)\n",
    "\n",
    "plt.plot(distanzen, beschleunigungen)\n",
    "plt.xlabel(\"Distanz zum Erdkern in Erdradien\")\n",
    "plt.ylabel(r\"Schwerebeschleunigung in $\\mathrm{m\\, s^{-2}}$\")\n",
    "plt.axhline(9.81, ls=\"dashed\", color='k')\n",
    "plt.show()"
   ]
  },
  {
   "cell_type": "markdown",
   "metadata": {},
   "source": [
    "# Das Konzept der Parallaxen\n",
    "\n",
    "Der Begriff Parallaxe bezeichnet in erster Linie den Winkel, um den ein Objekt in einer bestimmten Entfernung _verschoben_ erscheint, wenn man es aus zwei verschiedenen Blickwinkeln betrachtet. Leider bezeichnen viele Astronomen diesen Winkel als $\\pi$. Dieser Winkel hat aber a priori nichts mit der Kreiszahl und dem Wert 3,14157... zu tun. Das ist ledigleich eine etwas unglückliche Bezeichnung.\n",
    "\n",
    "Wir stellen uns folgendes Szenario vor: Wir beoachten einen unserer Finger am ausgestreckten Arm und halten dabei abwechselnd jeweils eine Auge zu, dann werden wir sehen, wie der Finger vor dem stillen Hintergrund zu springen scheint. Auch das ist eine Konsquenz des Parallaxeneffekts. Das interessante hierbei, wenn wir den Abstand zwischen den beiden Beobachtungsinstrumenten kennen (in unserem Alltagsbespiel ist das der Augenabstand) und den Winkel messen unter dem das Objeckt sich zu bewegen scheint, können wir dessen physische Entfernung bestimmen. Wir benutzen dazu ein wenig Trigonometrie am rechtwinkligen Dreieck.\n",
    "\n",
    "Kennen wird die Strecke $b$ (_Basislinie_) und den Winkel $\\pi$ (_Parallaxe_), können wir den Abstand $d$ bestimmen mithilfe der folgenden Gleichung:\n",
    "$$ d = \\frac{b}{\\tan\\pi} $$\n",
    "Wenn die Parallaxe besonders klein ist, das heißt ungefähr kleiner als 5°, dann können wir diese Gleichung noch einfacher schreiben als\n",
    "$$ d = \\frac{b}{\\pi [\\mathrm{rad}]} $$\n",
    "wobei die Parallaxen hierbei allerdings in Radiant angegeben sein muss. Alternativ kann man aber auch folgende Formel benutzen, die einen Winkel in Grad erwartet:\n",
    "$$ d = \\frac{57.3\\cdot b}{\\pi [\\mathrm{deg}]} $$"
   ]
  },
  {
   "cell_type": "markdown",
   "metadata": {},
   "source": [
    "### Zusatz: Die Einheit Parsec\n",
    "Wenn wir die Entfernungen anderer Sterne in Kilometer oder ähnlichen Einheiten angeben wollen, stellen wir schnell fest, dass die Zahlenwerte eher unhandlich sind. Aufgrund der großen Entfernungen ist es daher üblich, dass die Parallaxenwinkel in der Einheit _Millibogensekunde_ angegeben werden. Hierbei ist eine Bogensekunde gleich $\\frac{1}{3600}$ eines Grades. Des weiteren bieten es sich durch die großen Entfernungen an, die resultierenden Distanzen in sogenannten _Parallaxensekunden_ (welches man in der Regel als _Parsec_ abkürzt) anzugeben.\n",
    "Die Parallaxensekunde als Entfernungsmaß ist dabei so definiert, dass es ein Objekt in dieser Entfernung einen Parallaxenwinkel von genau einer Bogensekunde. Wie groß ist diese Distanz in Meter und Kilometer?"
   ]
  },
  {
   "cell_type": "code",
   "execution_count": null,
   "metadata": {},
   "outputs": [],
   "source": []
  },
  {
   "cell_type": "markdown",
   "metadata": {},
   "source": [
    "### Übung: Die Entferung einiger Sterne\n",
    "Der Astrometriesatellit _Gaia_ der von europäischen Rausfahrtagentur gestartet worden ist, hat die Parallaxen von mehr als einer Milliarde Sterne bestimmen können. Mithilfe dieser Daten können wir auf die Enfernung der Sterne nach dem gleichen Prinzip schließen. Weil _Gaia_ unfgefähr der Erde auf ihrer Umlaufbahn folgt, ist die Basislinie $b$ genau eine Astronomische Einheit lang (also rund 149.5 Millionen Kilometer). Mithilfe der oben gegebenen Formeln, berechne den Abstand der 7 Sterne des großen Wagens.\n",
    "\n",
    "<img src=\"https://en.wikipedia.org/wiki/Big_Dipper#/media/File:Ursa_Major_constellation_detail_map.PNG\" alt=\"Der Grosse Wagen im Sterbild Ursa Major (UMa)\" />\n",
    "\n",
    "Gegeben sind die Parallaxenwinkel der folgenden Sterne\n",
    "\n",
    "---\n",
    "\n",
    "- $\\alpha$ UMa (Dubhe): &nbsp; (26.54 ± 0.48) mas\n",
    "- $\\beta$ UMa (Merak): &nbsp; (40.90 ± 0.16) mas\n",
    "- $\\gamma$ UMa (Phecda): &nbsp; (39.21 ± 0.40) mas\n",
    "- $\\delta$ UMa (Megrez): &nbsp; (40.51 ± 0.15) mas\n",
    "- $\\epsilon$ UMa (Alioth): &nbsp; (39.51 ± 0.20) mas\n",
    "- $\\zeta$ UMa (Mizar): &nbsp; (39.36 ± 0.30) mas\n",
    "- $\\eta$ UMa (Alkaid): &nbsp; (31.38 ± 0.24) mas\n",
    "\n",
    "---\n",
    "\n",
    "Welcher ist der nächste, welcher der am weitesten entfernte Stern dieser 7 Sterne?\n",
    "\n",
    "__Wie weit entfernt ist der (nach der Sonne selbst) nächste Stern?__"
   ]
  },
  {
   "cell_type": "code",
   "execution_count": null,
   "metadata": {},
   "outputs": [],
   "source": [
    "# Eine Liste der Parallaxenwinkel aller Wagensterne\n",
    "parallaxen = [..., ..., ..., ..., ..., ..., ...]\n",
    "\n",
    "# Eine leere Liste, um die Distanzen aller Sterne zu speichern\n",
    "distanzen = []\n",
    "\n",
    "\n",
    "for parallaxe in ...:\n",
    "    \n",
    "    distanz = ... # hier die formel eintragen, die Millibogensekunden in Parsec umwandelt\n",
    "    \n",
    "    distanzen.append(distanz)\n",
    "\n",
    "print(distanzen)"
   ]
  }
 ],
 "metadata": {
  "kernelspec": {
   "display_name": "Python 3 (ipykernel)",
   "language": "python",
   "name": "python3"
  },
  "language_info": {
   "codemirror_mode": {
    "name": "ipython",
    "version": 3
   },
   "file_extension": ".py",
   "mimetype": "text/x-python",
   "name": "python",
   "nbconvert_exporter": "python",
   "pygments_lexer": "ipython3",
   "version": "3.12.3"
  }
 },
 "nbformat": 4,
 "nbformat_minor": 4
}
